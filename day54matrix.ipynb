{
 "cells": [
  {
   "cell_type": "markdown",
   "id": "abfa390e",
   "metadata": {},
   "source": [
    "# anti diagonal"
   ]
  },
  {
   "cell_type": "code",
   "execution_count": null,
   "id": "638d5002",
   "metadata": {},
   "outputs": [],
   "source": [
    "mat = [[1,2,3],[4,5,6],[7,8,9]]\n",
    "\n",
    "j = len(mat)-1\n",
    "for i in range(len(mat)):\n",
    "    print(mat[i][j])\n",
    "    j -=1"
   ]
  },
  {
   "cell_type": "markdown",
   "id": "c94a0a6b",
   "metadata": {},
   "source": [
    "# transpose"
   ]
  },
  {
   "cell_type": "code",
   "execution_count": 2,
   "id": "d1d9ed35",
   "metadata": {},
   "outputs": [
    {
     "name": "stdout",
     "output_type": "stream",
     "text": [
      "[[1, 4, 7], [2, 5, 8], [3, 6, 9]]\n"
     ]
    }
   ],
   "source": [
    "matrix = [[1,2,3],[4,5,6],[7,8,9]]\n",
    "\n",
    "tranmat = [[0,0,0],[0,0,0],[0,0,0]]\n",
    "\n",
    "for i in range(len(matrix)):\n",
    "    for j in range(len(matrix)):\n",
    "        tranmat[i][j] = matrix[j][i]\n",
    "print(tranmat)\n",
    "    "
   ]
  },
  {
   "cell_type": "markdown",
   "id": "fc1bad92",
   "metadata": {},
   "source": [
    "# print column wise"
   ]
  },
  {
   "cell_type": "code",
   "execution_count": 3,
   "id": "50fe20e6",
   "metadata": {},
   "outputs": [
    {
     "name": "stdout",
     "output_type": "stream",
     "text": [
      "1\n",
      "4\n",
      "7\n",
      "2\n",
      "5\n",
      "8\n",
      "3\n",
      "6\n",
      "9\n"
     ]
    }
   ],
   "source": [
    "mat = [[1,2,3],[4,5,6],[7,8,9]]\n",
    "\n",
    "for i in range(len(mat)):\n",
    "    for j in range(len(mat)):\n",
    "        print(mat[j][i])"
   ]
  },
  {
   "cell_type": "markdown",
   "id": "d27ffaac",
   "metadata": {},
   "source": [
    "# max sum of sub array subarray"
   ]
  },
  {
   "cell_type": "code",
   "execution_count": 14,
   "id": "5a69a2c4",
   "metadata": {},
   "outputs": [
    {
     "name": "stdout",
     "output_type": "stream",
     "text": [
      "28\n"
     ]
    }
   ],
   "source": [
    "arr = [0,1,2,3,4,5,6,7]\n",
    "\n",
    "maxsum =0 \n",
    "for i in range(len(arr)):\n",
    "    for j in range(i,len(arr)):\n",
    "        sumint = 0\n",
    "        for k in range(i,j+1):\n",
    "            sumint +=arr[k]\n",
    "        maxsum = max(sumint,maxsum)\n",
    "print(maxsum)"
   ]
  },
  {
   "cell_type": "markdown",
   "id": "af915949",
   "metadata": {},
   "source": [
    "# 90 degree rotation"
   ]
  },
  {
   "cell_type": "code",
   "execution_count": 16,
   "id": "49054a37",
   "metadata": {},
   "outputs": [
    {
     "name": "stdout",
     "output_type": "stream",
     "text": [
      "[7, 4, 1]\n",
      "[8, 5, 2]\n",
      "[9, 6, 3]\n"
     ]
    }
   ],
   "source": [
    "matrix = [[1,2,3],[4,5,6],[7,8,9]]\n",
    "\n",
    "tranmat = [[0,0,0],[0,0,0],[0,0,0]]\n",
    "\n",
    "for i in range(len(matrix)):\n",
    "    for j in range(len(matrix)):\n",
    "        tranmat[i][j] = matrix[j][i]\n",
    "for i in range(len(tranmat)):\n",
    "    print(tranmat[i][::-1])"
   ]
  },
  {
   "cell_type": "markdown",
   "id": "8211f7f8",
   "metadata": {},
   "source": [
    "# print reverse of matrix"
   ]
  },
  {
   "cell_type": "code",
   "execution_count": 18,
   "id": "5ccfdc75",
   "metadata": {},
   "outputs": [
    {
     "name": "stdout",
     "output_type": "stream",
     "text": [
      "9 8 7 \n",
      "6 5 4 \n",
      "3 2 1 \n"
     ]
    }
   ],
   "source": [
    "matrix = [[1,2,3],[4,5,6],[7,8,9]]\n",
    "\n",
    "for i in range(len(matrix)-1,-1,-1):\n",
    "    for j in range(len(matrix)-1,-1,-1):\n",
    "        print(matrix[i][j],end=\" \")\n",
    "    print()"
   ]
  },
  {
   "cell_type": "code",
   "execution_count": null,
   "id": "d74b1d10",
   "metadata": {},
   "outputs": [],
   "source": [
    " "
   ]
  }
 ],
 "metadata": {
  "kernelspec": {
   "display_name": "Python 3 (ipykernel)",
   "language": "python",
   "name": "python3"
  },
  "language_info": {
   "codemirror_mode": {
    "name": "ipython",
    "version": 3
   },
   "file_extension": ".py",
   "mimetype": "text/x-python",
   "name": "python",
   "nbconvert_exporter": "python",
   "pygments_lexer": "ipython3",
   "version": "3.9.12"
  }
 },
 "nbformat": 4,
 "nbformat_minor": 5
}
